{
 "cells": [
  {
   "cell_type": "markdown",
   "metadata": {},
   "source": [
    "# Multi-modal vector embeddings\n",
    "\n",
    "A vector embedding can also represent non-textual data, such as images."
   ]
  },
  {
   "cell_type": "code",
   "execution_count": 1,
   "metadata": {},
   "outputs": [],
   "source": [
    "import os\n",
    "import mimetypes\n",
    "\n",
    "import requests\n",
    "from PIL import Image\n",
    "import dotenv\n",
    "from azure.identity import DefaultAzureCredential, get_bearer_token_provider\n",
    "\n",
    "dotenv.load_dotenv()\n",
    "\n",
    "azure_credential = DefaultAzureCredential(exclude_shared_token_cache_credential=True)\n",
    "token_provider = get_bearer_token_provider(azure_credential, \"https://cognitiveservices.azure.com/.default\")\n",
    "AZURE_AI_VISION_ENDPOINT = os.environ[\"AZURE_AI_VISION_ENDPOINT\"]\n",
    "AZURE_AI_VISION_URL = f\"{AZURE_AI_VISION_ENDPOINT}/computervision/retrieval\"\n",
    "\n",
    "def get_model_params():\n",
    "    return {\"api-version\": \"2024-02-01\", \"model-version\": \"2023-04-15\"}\n",
    "\n",
    "def get_auth_headers():\n",
    "    return {\"Authorization\": \"Bearer \" + token_provider()}\n",
    "\n",
    "def get_image_embedding(image_file):\n",
    "    mimetype = mimetypes.guess_type(image_file)[0]\n",
    "    url = f\"{AZURE_AI_VISION_URL}:vectorizeImage\"\n",
    "    headers = get_auth_headers()\n",
    "    headers[\"Content-Type\"] = mimetype\n",
    "    response = requests.post(url, headers=headers, params=get_model_params(), data=open(image_file, \"rb\"))\n",
    "    if response.status_code != 200:\n",
    "        print(image_file, response.status_code, response.json())\n",
    "    return response.json()[\"vector\"]\n",
    "\n",
    "def get_text_embedding(text):\n",
    "    url = f\"{AZURE_AI_VISION_URL}:vectorizeText\"\n",
    "    return requests.post(url, headers=get_auth_headers(), params=get_model_params(),\n",
    "                         json={\"text\": text}).json()[\"vector\"]\n"
   ]
  },
  {
   "cell_type": "code",
   "execution_count": 2,
   "metadata": {},
   "outputs": [],
   "source": [
    "import json\n",
    "\n",
    "vectors = {}\n",
    "for image_file in os.listdir(\"../product_images\"):\n",
    "    image_embedding = get_image_embedding(f\"../product_images/{image_file}\")\n",
    "    vectors[image_file] = image_embedding\n",
    "\n",
    "# guardamos los embeddings en un archivo\n",
    "with open(\"embeddings/images_ai-vision.json\", \"w\") as f:\n",
    "    json.dump(vectors, f)\n",
    "    "
   ]
  },
  {
   "cell_type": "code",
   "execution_count": null,
   "metadata": {},
   "outputs": [],
   "source": [
    "Image.open(\"../product_images/amulet8_fullshot.jpg\")"
   ]
  },
  {
   "cell_type": "code",
   "execution_count": null,
   "metadata": {},
   "outputs": [],
   "source": [
    "vectors[\"amulet8_fullshot.jpg\"]"
   ]
  },
  {
   "cell_type": "code",
   "execution_count": null,
   "metadata": {},
   "outputs": [],
   "source": [
    "len(vectors[\"amulet8_fullshot.jpg\"])"
   ]
  },
  {
   "cell_type": "code",
   "execution_count": null,
   "metadata": {},
   "outputs": [],
   "source": [
    "import csv\n",
    "\n",
    "# abrimos el csv con los sustantivos más usados\n",
    "words = []\n",
    "with open('embeddings/sustantivos-mas-usados.csv') as f:\n",
    "    reader = csv.reader(f)\n",
    "    next(reader)\n",
    "    for row in reader:\n",
    "        words.append(row[0])\n",
    "\n",
    "# Calculamos los embeddings de cada palabra\n",
    "word_vectors = {}\n",
    "for word in words:\n",
    "    word_embedding = get_text_embedding(word)\n",
    "    word_vectors[word] = word_embedding\n",
    "\n",
    "# Guardamos los embeddings en un archivo\n",
    "with open('embeddings/sustantivos2_ai-vision.json', 'w') as f:\n",
    "    json.dump(word_vectors, f)"
   ]
  },
  {
   "cell_type": "code",
   "execution_count": null,
   "metadata": {},
   "outputs": [],
   "source": [
    "word_vectors[\"tiempo\"]"
   ]
  },
  {
   "cell_type": "code",
   "execution_count": null,
   "metadata": {},
   "outputs": [],
   "source": [
    "len(word_vectors[\"tiempo\"])"
   ]
  }
 ],
 "metadata": {
  "kernelspec": {
   "display_name": ".venv (3.12.10)",
   "language": "python",
   "name": "python3"
  },
  "language_info": {
   "codemirror_mode": {
    "name": "ipython",
    "version": 3
   },
   "file_extension": ".py",
   "mimetype": "text/x-python",
   "name": "python",
   "nbconvert_exporter": "python",
   "pygments_lexer": "ipython3",
   "version": "3.12.10"
  }
 },
 "nbformat": 4,
 "nbformat_minor": 2
}
